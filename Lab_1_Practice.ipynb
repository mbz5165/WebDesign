{
  "nbformat": 4,
  "nbformat_minor": 0,
  "metadata": {
    "colab": {
      "name": "Lab 1 Practice.ipynb",
      "provenance": [],
      "authorship_tag": "ABX9TyP6dine5ViSAFKPVwn+tYhd",
      "include_colab_link": true
    },
    "kernelspec": {
      "name": "python3",
      "display_name": "Python 3"
    }
  },
  "cells": [
    {
      "cell_type": "markdown",
      "metadata": {
        "id": "view-in-github",
        "colab_type": "text"
      },
      "source": [
        "<a href=\"https://colab.research.google.com/github/mbz5165/WebDesign/blob/master/Lab_1_Practice.ipynb\" target=\"_parent\"><img src=\"https://colab.research.google.com/assets/colab-badge.svg\" alt=\"Open In Colab\"/></a>"
      ]
    },
    {
      "cell_type": "markdown",
      "metadata": {
        "id": "LjOeaqpfi7WI",
        "colab_type": "text"
      },
      "source": [
        "## Do you like using Jupyter Notebooks?"
      ]
    },
    {
      "cell_type": "markdown",
      "metadata": {
        "id": "7jhWEsPOjGgB",
        "colab_type": "text"
      },
      "source": [
        "I enjoy using Jupyter Notebooks becuase it is very organized. Information can be shared via codes and data. "
      ]
    },
    {
      "cell_type": "markdown",
      "metadata": {
        "id": "wdkWMl6enL4X",
        "colab_type": "text"
      },
      "source": [
        "## What do you want to learn more about in Jupyter Notebooks?"
      ]
    },
    {
      "cell_type": "markdown",
      "metadata": {
        "id": "whvmKTuRnQ53",
        "colab_type": "text"
      },
      "source": [
        "So far I know very little about it becuase I just started using it. I would like to be more familiar with it through future practices. "
      ]
    },
    {
      "cell_type": "markdown",
      "metadata": {
        "id": "No6hKSvwn2aL",
        "colab_type": "text"
      },
      "source": [
        "![Picture of my cat](https://raw.githubusercontent.com/mbz5165/WebDesign/master/Images/11599096437_.pic_thumb.jpg)"
      ]
    }
  ]
}