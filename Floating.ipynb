{
  "nbformat": 4,
  "nbformat_minor": 0,
  "metadata": {
    "colab": {
      "name": "Floating.ipynb",
      "provenance": [],
      "collapsed_sections": [],
      "include_colab_link": true
    },
    "kernelspec": {
      "name": "python3",
      "display_name": "Python 3"
    }
  },
  "cells": [
    {
      "cell_type": "markdown",
      "metadata": {
        "id": "view-in-github",
        "colab_type": "text"
      },
      "source": [
        "<a href=\"https://colab.research.google.com/github/mbz5165/WebDesign/blob/master/Floating.ipynb\" target=\"_parent\"><img src=\"https://colab.research.google.com/assets/colab-badge.svg\" alt=\"Open In Colab\"/></a>"
      ]
    },
    {
      "cell_type": "markdown",
      "metadata": {
        "id": "n2Eo_hrDSWau"
      },
      "source": [
        "# Floating\n",
        "\n",
        "### Normal Behavior\n",
        "\n",
        "![standard layout](https://drive.google.com/u/0/uc?id=1NAdn2ofEzZ6EPF_GsJo4fLoD4F0g1jgK)\n",
        "\n",
        "### Floating Behavior\n",
        "\n",
        "![standard layout](https://drive.google.com/u/0/uc?id=1jrBE26ocwimJTgxKacjNrWqo7snELFJl)\n"
      ]
    },
    {
      "cell_type": "code",
      "metadata": {
        "id": "KwsBsbiXSU1l",
        "outputId": "988ba9c7-a9ba-4685-8774-808e02741dbb",
        "colab": {
          "base_uri": "https://localhost:8080/",
          "height": 269
        }
      },
      "source": [
        "%%html\n",
        "<!DOCTYPE html>\n",
        "<html>\n",
        "\n",
        "  <head>\n",
        "    <meta charset=\"utf-8\">\n",
        "    <title>Relative - 1em</title>\n",
        "    <style>\n",
        "      img, p {border: 2px solid blue;}\n",
        "      p {\n",
        "        margin-left:auto;\n",
        "        margin-right:auto;\n",
        "        width: 30vw;\n",
        "      }\n",
        "    </style>\n",
        "\t\n",
        "  </head>\n",
        "\n",
        "  <body>\n",
        "  <p><img src=\"https://drive.google.com/u/0/uc?id=1VqxNrq3Go418ZujTjTepPXBVlPzGUIjw\" alt=\"one chocolate chip muffin\">Every day, we offer a large selection of muffins, including blueberry, multi-berry, bran, corn, lemon-poppyseed, and chocolate. \n",
        "  Our muffins are made from scratch each day. Stop by to see our seasonal muffin flavors!</p>\n",
        "  \n",
        "  </body>\n",
        "</html>  "
      ],
      "execution_count": null,
      "outputs": [
        {
          "output_type": "display_data",
          "data": {
            "text/html": [
              "<!DOCTYPE html>\n",
              "<html>\n",
              "\n",
              "  <head>\n",
              "    <meta charset=\"utf-8\">\n",
              "    <title>Relative - 1em</title>\n",
              "    <style>\n",
              "      img, p {border: 2px solid blue;}\n",
              "      p {\n",
              "        margin-left:auto;\n",
              "        margin-right:auto;\n",
              "        width: 30vw;\n",
              "      }\n",
              "    </style>\n",
              "\t\n",
              "  </head>\n",
              "\n",
              "  <body>\n",
              "  <p><img src=\"https://drive.google.com/u/0/uc?id=1VqxNrq3Go418ZujTjTepPXBVlPzGUIjw\" alt=\"one chocolate chip muffin\">Every day, we offer a large selection of muffins, including blueberry, multi-berry, bran, corn, lemon-poppyseed, and chocolate. \n",
              "  Our muffins are made from scratch each day. Stop by to see our seasonal muffin flavors!</p>\n",
              "  \n",
              "  </body>\n",
              "</html>  "
            ],
            "text/plain": [
              "<IPython.core.display.HTML object>"
            ]
          },
          "metadata": {
            "tags": []
          }
        }
      ]
    },
    {
      "cell_type": "code",
      "metadata": {
        "id": "NRq8uyslVcl2",
        "outputId": "3f834587-9d0f-4ff5-9db6-8e276140c5e0",
        "colab": {
          "base_uri": "https://localhost:8080/",
          "height": 259
        }
      },
      "source": [
        "%%html\n",
        "<!DOCTYPE html>\n",
        "<html>\n",
        "\n",
        "  <head>\n",
        "    <meta charset=\"utf-8\">\n",
        "    <title>Relative - 1em</title>\n",
        "    <style>\n",
        "      img, p {border: 2px solid blue;}\n",
        "      p {\n",
        "        margin-left:auto;\n",
        "        margin-right:auto;\n",
        "        width: 300px;\n",
        "      }\n",
        "      img {\n",
        "        float: left;\n",
        "      }\n",
        "    </style>\n",
        "\t\n",
        "  </head>\n",
        "\n",
        "  <body>\n",
        "  <p><img src=\"https://drive.google.com/u/0/uc?id=1VqxNrq3Go418ZujTjTepPXBVlPzGUIjw\" alt=\"one chocolate chip muffin\">Every day, we offer a large selection of muffins, including blueberry, multi-berry, bran, corn, lemon-poppyseed, and chocolate. \n",
        "  Our muffins are made from scratch each day. Stop by to see our seasonal muffin flavors!</p>\n",
        "  \n",
        "  </body>\n",
        "</html>  "
      ],
      "execution_count": null,
      "outputs": [
        {
          "output_type": "display_data",
          "data": {
            "text/html": [
              "<!DOCTYPE html>\n",
              "<html>\n",
              "\n",
              "  <head>\n",
              "    <meta charset=\"utf-8\">\n",
              "    <title>Relative - 1em</title>\n",
              "    <style>\n",
              "      img, p {border: 2px solid blue;}\n",
              "      p {\n",
              "        margin-left:auto;\n",
              "        margin-right:auto;\n",
              "        width: 300px;\n",
              "      }\n",
              "      img {\n",
              "        float: left;\n",
              "      }\n",
              "    </style>\n",
              "\t\n",
              "  </head>\n",
              "\n",
              "  <body>\n",
              "  <p><img src=\"https://drive.google.com/u/0/uc?id=1VqxNrq3Go418ZujTjTepPXBVlPzGUIjw\" alt=\"one chocolate chip muffin\">Every day, we offer a large selection of muffins, including blueberry, multi-berry, bran, corn, lemon-poppyseed, and chocolate. \n",
              "  Our muffins are made from scratch each day. Stop by to see our seasonal muffin flavors!</p>\n",
              "  \n",
              "  </body>\n",
              "</html>  "
            ],
            "text/plain": [
              "<IPython.core.display.HTML object>"
            ]
          },
          "metadata": {
            "tags": []
          }
        }
      ]
    },
    {
      "cell_type": "code",
      "metadata": {
        "id": "cZnKlS9OUgH9",
        "outputId": "0f46c1bb-ec05-461e-ed9a-1233cb95f0aa",
        "colab": {
          "base_uri": "https://localhost:8080/",
          "height": 205
        }
      },
      "source": [
        "%%html\n",
        "<!DOCTYPE html>\n",
        "<html>\n",
        "\n",
        "  <head>\n",
        "    <meta charset=\"utf-8\">\n",
        "    <title>Relative - 1em</title>\n",
        "    <style>\n",
        "      img, p {border: 2px solid blue;}\n",
        "      p {\n",
        "        margin-left:auto;\n",
        "        margin-right:auto;\n",
        "\n",
        "      }\n",
        "      img {\n",
        "        float: left;\n",
        "        margin: 10px;\n",
        "      }\n",
        "    </style>\n",
        "\t\n",
        "  </head>\n",
        "\n",
        "  <body>\n",
        "  <img src=\"https://drive.google.com/u/0/uc?id=1VqxNrq3Go418ZujTjTepPXBVlPzGUIjw\" alt=\"one chocolate chip muffin\">\n",
        "  <p>It was the best of times,it was the worst of times,it was the age of wisdom,it was the age of foolishness,it was the epoch of belief,it was the epoch of incredulity,it was the season of Light,it was the season of Darkness,it was the spring of hope,it was the winter of despair,we had everything before us, we had nothing before us, we were all going direct to Heaven, we were all going direct the other way— in short, the period was so far like the present period, that some of its noisiest authorities insisted on its being received, for good or for evil, in the superlative degree of comparison only.</p>\n",
        "  \n",
        "  </body>\n",
        "</html>  "
      ],
      "execution_count": null,
      "outputs": [
        {
          "output_type": "display_data",
          "data": {
            "text/html": [
              "<!DOCTYPE html>\n",
              "<html>\n",
              "\n",
              "  <head>\n",
              "    <meta charset=\"utf-8\">\n",
              "    <title>Relative - 1em</title>\n",
              "    <style>\n",
              "      img, p {border: 2px solid blue;}\n",
              "      p {\n",
              "        margin-left:auto;\n",
              "        margin-right:auto;\n",
              "\n",
              "      }\n",
              "      img {\n",
              "        float: left;\n",
              "        margin: 10px;\n",
              "      }\n",
              "    </style>\n",
              "\t\n",
              "  </head>\n",
              "\n",
              "  <body>\n",
              "  <img src=\"https://drive.google.com/u/0/uc?id=1VqxNrq3Go418ZujTjTepPXBVlPzGUIjw\" alt=\"one chocolate chip muffin\">\n",
              "  <p>It was the best of times,it was the worst of times,it was the age of wisdom,it was the age of foolishness,it was the epoch of belief,it was the epoch of incredulity,it was the season of Light,it was the season of Darkness,it was the spring of hope,it was the winter of despair,we had everything before us, we had nothing before us, we were all going direct to Heaven, we were all going direct the other way— in short, the period was so far like the present period, that some of its noisiest authorities insisted on its being received, for good or for evil, in the superlative degree of comparison only.</p>\n",
              "  \n",
              "  </body>\n",
              "</html>  "
            ],
            "text/plain": [
              "<IPython.core.display.HTML object>"
            ]
          },
          "metadata": {
            "tags": []
          }
        }
      ]
    },
    {
      "cell_type": "markdown",
      "metadata": {
        "id": "3f3PzY77WG10"
      },
      "source": [
        "## Float Behaviour\n",
        "\n",
        "*   A floated element is like an island in a stream\n",
        "*   Floats stay in the content area of the containing element\n",
        "*   Margins are maintained\n",
        "\n",
        "\n",
        "\n",
        "\n",
        "\n"
      ]
    },
    {
      "cell_type": "code",
      "metadata": {
        "id": "4L2fkeyJV21s",
        "outputId": "d673caef-0c44-4a18-add0-2e062f2fe4fc",
        "colab": {
          "base_uri": "https://localhost:8080/",
          "height": 173
        }
      },
      "source": [
        "%%html\n",
        "<!DOCTYPE html>\n",
        "<html>\n",
        "\n",
        "  <head>\n",
        "    <meta charset=\"utf-8\">\n",
        "    <title>Relative - 1em</title>\n",
        "    <style>\n",
        "      p, span{border: 2px solid blue;}\n",
        "      div {\n",
        "        margin-left:auto;\n",
        "        margin-right:auto;\n",
        "        width: 300px;\n",
        "      }\n",
        "      p.tip {\n",
        "        float: left;\n",
        "        width: 100px;\n",
        "        margin: 10px;\n",
        "      }\n",
        "    </style>\n",
        "\t\n",
        "  </head>\n",
        "\n",
        "  <body>\n",
        "  <div><p class=\"tip\">Make sure to try the other 30 brands of muffins available!</p>Every day, we offer a large selection of muffins, including blueberry, multi-berry, bran, corn, lemon-poppyseed, and chocolate. \n",
        "  Our muffins are made from scratch each day. Stop by to see our seasonal muffin flavors!</div>\n",
        "  <span>some text here</span>\n",
        "  </body>\n",
        "</html>  "
      ],
      "execution_count": null,
      "outputs": [
        {
          "output_type": "display_data",
          "data": {
            "text/html": [
              "<!DOCTYPE html>\n",
              "<html>\n",
              "\n",
              "  <head>\n",
              "    <meta charset=\"utf-8\">\n",
              "    <title>Relative - 1em</title>\n",
              "    <style>\n",
              "      p, span{border: 2px solid blue;}\n",
              "      div {\n",
              "        margin-left:auto;\n",
              "        margin-right:auto;\n",
              "        width: 300px;\n",
              "      }\n",
              "      p.tip {\n",
              "        float: left;\n",
              "        width: 100px;\n",
              "        margin: 10px;\n",
              "      }\n",
              "    </style>\n",
              "\t\n",
              "  </head>\n",
              "\n",
              "  <body>\n",
              "  <div><p class=\"tip\">Make sure to try the other 30 brands of muffins available!</p>Every day, we offer a large selection of muffins, including blueberry, multi-berry, bran, corn, lemon-poppyseed, and chocolate. \n",
              "  Our muffins are made from scratch each day. Stop by to see our seasonal muffin flavors!</div>\n",
              "  <span>some text here</span>\n",
              "  </body>\n",
              "</html>  "
            ],
            "text/plain": [
              "<IPython.core.display.HTML object>"
            ]
          },
          "metadata": {
            "tags": []
          }
        }
      ]
    },
    {
      "cell_type": "code",
      "metadata": {
        "id": "csaGwFmcW2Ic",
        "outputId": "256744f7-ece1-4f8e-8560-1adae65dcab6",
        "colab": {
          "base_uri": "https://localhost:8080/",
          "height": 141
        }
      },
      "source": [
        "%%html\n",
        "<!DOCTYPE html>\n",
        "<html>\n",
        "\n",
        "  <head>\n",
        "    <meta charset=\"utf-8\">\n",
        "    <title>Relative - 1em</title>\n",
        "    <style>\n",
        "      p, div {border: 2px solid blue;}\n",
        "      div {\n",
        "        margin-left:auto;\n",
        "        margin-right:auto;\n",
        "        width: 370px;\n",
        "      }\n",
        "      p {\n",
        "        float: left;\n",
        "        margin: 10px;\n",
        "        width: 100px;\n",
        "      }\n",
        "    </style>\n",
        "\t\n",
        "  </head>\n",
        "\n",
        "  <body>\n",
        "  <p>Make sure to try the other 30 brands of muffins available!</p>\n",
        "  <div>Every day, we offer a large selection of muffins, including blueberry, multi-berry, bran, corn, lemon-poppyseed, and chocolate. \n",
        "  Our muffins are made from scratch each day. Stop by to see our seasonal muffin flavors!</div>\n",
        "  \n",
        "  </body>\n",
        "</html>  "
      ],
      "execution_count": null,
      "outputs": [
        {
          "output_type": "display_data",
          "data": {
            "text/html": [
              "<!DOCTYPE html>\n",
              "<html>\n",
              "\n",
              "  <head>\n",
              "    <meta charset=\"utf-8\">\n",
              "    <title>Relative - 1em</title>\n",
              "    <style>\n",
              "      p, div {border: 2px solid blue;}\n",
              "      div {\n",
              "        margin-left:auto;\n",
              "        margin-right:auto;\n",
              "        width: 370px;\n",
              "      }\n",
              "      p {\n",
              "        float: left;\n",
              "        margin: 10px;\n",
              "        width: 100px;\n",
              "      }\n",
              "    </style>\n",
              "\t\n",
              "  </head>\n",
              "\n",
              "  <body>\n",
              "  <p>Make sure to try the other 30 brands of muffins available!</p>\n",
              "  <div>Every day, we offer a large selection of muffins, including blueberry, multi-berry, bran, corn, lemon-poppyseed, and chocolate. \n",
              "  Our muffins are made from scratch each day. Stop by to see our seasonal muffin flavors!</div>\n",
              "  \n",
              "  </body>\n",
              "</html>  "
            ],
            "text/plain": [
              "<IPython.core.display.HTML object>"
            ]
          },
          "metadata": {
            "tags": []
          }
        }
      ]
    },
    {
      "cell_type": "markdown",
      "metadata": {
        "id": "HrLJ4-SEXJH_"
      },
      "source": [
        "### Inline text float behaviour\n",
        "\n",
        "\n",
        "\n",
        "*   Always provide a width for floated text elements\n",
        "*   Located inline elements behave as blocked elements\n",
        "*   Margins on floated elements do not collapse\n",
        "\n",
        "\n"
      ]
    },
    {
      "cell_type": "code",
      "metadata": {
        "id": "i_4kLiobXBTP",
        "outputId": "fd136b20-d183-4822-ea81-59b0d31312f5",
        "colab": {
          "base_uri": "https://localhost:8080/",
          "height": 674
        }
      },
      "source": [
        "%%html\n",
        "<!DOCTYPE html>\n",
        "<html>\n",
        "\n",
        "  <head>\n",
        "    <meta charset=\"utf-8\">\n",
        "    <title>Relative - 1em</title>\n",
        "    <style>\n",
        "      span, p {border: 2px solid blue;}\n",
        "      p {\n",
        "        margin-left:auto;\n",
        "        margin-right:auto;\n",
        "        width: 300px;\n",
        "        padding: 10px;\n",
        "\n",
        "      }\n",
        "      p#floatingLeft {\n",
        "        float: left;\n",
        "      }\n",
        "      p#floatingRight {\n",
        "        float: right;\n",
        "      }\n",
        "      p#footer {\n",
        "        clear: both;\n",
        "        width: 800px;\n",
        "      }\n",
        "    </style>\n",
        "\t\n",
        "  </head>\n",
        "\n",
        "  <body>\n",
        "  <p>It was the best of times,it was the worst of times,it was the age of wisdom,it was the age of foolishness,it was the epoch of belief,it was the epoch of incredulity,it was the season of Light,it was the season of Darkness,it was the spring of hope,it was the winter of despair,we had everything before us, we had nothing before us, we were all going direct to Heaven, we were all going direct the other way— in short, the period was so far like the present period, that some of its noisiest authorities insisted on its being received, for good or for evil, in the superlative degree of comparison only.</p>\n",
        "  <p id=\"floatingLeft\">The Project Gutenberg EBook of A Tale of Two Cities, by Charles Dickens<br>This eBook is for the use of anyone anywhere at no cost and with almost no restrictions whatsoever.  You may copy it, give it away or re-use it under the terms of the Project Gutenberg License included with this eBook or online at www.gutenberg.org<br>Title: A Tale of Two Cities<br>A Story of the French Revolution<br>Author: Charles Dickens</p>\n",
        "  <p id=\"floatingRight\">The Project Gutenberg EBook of A Tale of Two Cities, by Charles Dickens<br>This eBook is for the use of anyone anywhere at no cost and with almost no restrictions whatsoever.  You may copy it, give it away or re-use it under the terms of the Project Gutenberg License included with this eBook or online at www.gutenberg.org<br>Title: A Tale of Two Cities<br>A Story of the French Revolution<br>Author: Charles Dickens</p>\n",
        "  <p>There were a king with a large jaw and a queen with a plain face, on the throne of England; there were a king with a large jaw and a queen with a fair face, on the throne of France. In both countries it was clearer than crystal to the lords of the State preserves of loaves and fishes, that things in general were settled for ever.</p>\n",
        "  <p id=\"footer\">It was the year of Our Lord one thousand seven hundred and seventy-five. Spiritual revelations were conceded to England at that favoured period, as at this. Mrs. Southcott had recently attained her five-and-twentieth blessed birthday, of whom a prophetic private in the Life Guards had heralded the sublime appearance by announcing that arrangements were made for the swallowing up of London and Westminster. Even the Cock-lane ghost had been laid only a round dozen of years, after rapping out its messages, as the spirits of this very year last past (supernaturally deficient in originality) rapped out theirs. Mere messages in the earthly order of events had lately come to the English Crown and People, from a congress of British subjects in America: which, strange to relate, have proved more important to the human race than any communications yet received through any of the chickens of the Cock-lane brood.</p>\n",
        "  \n",
        "  </body>\n",
        "</html>  "
      ],
      "execution_count": null,
      "outputs": [
        {
          "output_type": "display_data",
          "data": {
            "text/html": [
              "<!DOCTYPE html>\n",
              "<html>\n",
              "\n",
              "  <head>\n",
              "    <meta charset=\"utf-8\">\n",
              "    <title>Relative - 1em</title>\n",
              "    <style>\n",
              "      span, p {border: 2px solid blue;}\n",
              "      p {\n",
              "        margin-left:auto;\n",
              "        margin-right:auto;\n",
              "        width: 300px;\n",
              "        padding: 10px;\n",
              "\n",
              "      }\n",
              "      p#floatingLeft {\n",
              "        float: left;\n",
              "      }\n",
              "      p#floatingRight {\n",
              "        float: right;\n",
              "      }\n",
              "      p#footer {\n",
              "        clear: both;\n",
              "        width: 800px;\n",
              "      }\n",
              "    </style>\n",
              "\t\n",
              "  </head>\n",
              "\n",
              "  <body>\n",
              "  <p>It was the best of times,it was the worst of times,it was the age of wisdom,it was the age of foolishness,it was the epoch of belief,it was the epoch of incredulity,it was the season of Light,it was the season of Darkness,it was the spring of hope,it was the winter of despair,we had everything before us, we had nothing before us, we were all going direct to Heaven, we were all going direct the other way— in short, the period was so far like the present period, that some of its noisiest authorities insisted on its being received, for good or for evil, in the superlative degree of comparison only.</p>\n",
              "  <p id=\"floatingLeft\">The Project Gutenberg EBook of A Tale of Two Cities, by Charles Dickens<br>This eBook is for the use of anyone anywhere at no cost and with almost no restrictions whatsoever.  You may copy it, give it away or re-use it under the terms of the Project Gutenberg License included with this eBook or online at www.gutenberg.org<br>Title: A Tale of Two Cities<br>A Story of the French Revolution<br>Author: Charles Dickens</p>\n",
              "  <p id=\"floatingRight\">The Project Gutenberg EBook of A Tale of Two Cities, by Charles Dickens<br>This eBook is for the use of anyone anywhere at no cost and with almost no restrictions whatsoever.  You may copy it, give it away or re-use it under the terms of the Project Gutenberg License included with this eBook or online at www.gutenberg.org<br>Title: A Tale of Two Cities<br>A Story of the French Revolution<br>Author: Charles Dickens</p>\n",
              "  <p>There were a king with a large jaw and a queen with a plain face, on the throne of England; there were a king with a large jaw and a queen with a fair face, on the throne of France. In both countries it was clearer than crystal to the lords of the State preserves of loaves and fishes, that things in general were settled for ever.</p>\n",
              "  <p id=\"footer\">It was the year of Our Lord one thousand seven hundred and seventy-five. Spiritual revelations were conceded to England at that favoured period, as at this. Mrs. Southcott had recently attained her five-and-twentieth blessed birthday, of whom a prophetic private in the Life Guards had heralded the sublime appearance by announcing that arrangements were made for the swallowing up of London and Westminster. Even the Cock-lane ghost had been laid only a round dozen of years, after rapping out its messages, as the spirits of this very year last past (supernaturally deficient in originality) rapped out theirs. Mere messages in the earthly order of events had lately come to the English Crown and People, from a congress of British subjects in America: which, strange to relate, have proved more important to the human race than any communications yet received through any of the chickens of the Cock-lane brood.</p>\n",
              "  \n",
              "  </body>\n",
              "</html>  "
            ],
            "text/plain": [
              "<IPython.core.display.HTML object>"
            ]
          },
          "metadata": {
            "tags": []
          }
        }
      ]
    },
    {
      "cell_type": "markdown",
      "metadata": {
        "id": "bxSk3KUbZS0S"
      },
      "source": [
        "### Clear"
      ]
    },
    {
      "cell_type": "code",
      "metadata": {
        "id": "6SRoZLGwYWMO",
        "outputId": "6a43d5df-24be-4834-d66e-f2a13759d17f",
        "colab": {
          "base_uri": "https://localhost:8080/",
          "height": 217
        }
      },
      "source": [
        "%%html\n",
        "<!DOCTYPE html>\n",
        "<html>\n",
        "\n",
        "  <head>\n",
        "    <meta charset=\"utf-8\">\n",
        "    <title>Relative - 1em</title>\n",
        "    <style>\n",
        "      img, p {border: 2px solid blue;}\n",
        "      p {\n",
        "        margin-left:auto;\n",
        "        margin-right:auto;\n",
        "        width: 500px;\n",
        "      }\n",
        "      img {\n",
        "        float: left;\n",
        "      }\n",
        "      h2 {\n",
        "        clear: both;\n",
        "      }\n",
        "    </style>\n",
        "\t\n",
        "  </head>\n",
        "\n",
        "  <body>\n",
        "  <p><img src=\"https://drive.google.com/u/0/uc?id=1VqxNrq3Go418ZujTjTepPXBVlPzGUIjw\" alt=\"one chocolate chip muffin\">Every day, we offer a large selection of muffins, including blueberry, multi-berry, bran, corn, lemon-poppyseed, and chocolate. \n",
        "  Our muffins are made from scratch each day. Stop by to see our seasonal muffin flavors!</p>\n",
        "  <h2> Other foods </h2>\n",
        "  \n",
        "  </body>\n",
        "</html>  "
      ],
      "execution_count": null,
      "outputs": [
        {
          "output_type": "display_data",
          "data": {
            "text/html": [
              "<!DOCTYPE html>\n",
              "<html>\n",
              "\n",
              "  <head>\n",
              "    <meta charset=\"utf-8\">\n",
              "    <title>Relative - 1em</title>\n",
              "    <style>\n",
              "      img, p {border: 2px solid blue;}\n",
              "      p {\n",
              "        margin-left:auto;\n",
              "        margin-right:auto;\n",
              "        width: 500px;\n",
              "      }\n",
              "      img {\n",
              "        float: left;\n",
              "      }\n",
              "      h2 {\n",
              "        clear: both;\n",
              "      }\n",
              "    </style>\n",
              "\t\n",
              "  </head>\n",
              "\n",
              "  <body>\n",
              "  <p><img src=\"https://drive.google.com/u/0/uc?id=1VqxNrq3Go418ZujTjTepPXBVlPzGUIjw\" alt=\"one chocolate chip muffin\">Every day, we offer a large selection of muffins, including blueberry, multi-berry, bran, corn, lemon-poppyseed, and chocolate. \n",
              "  Our muffins are made from scratch each day. Stop by to see our seasonal muffin flavors!</p>\n",
              "  <h2> Other foods </h2>\n",
              "  \n",
              "  </body>\n",
              "</html>  "
            ],
            "text/plain": [
              "<IPython.core.display.HTML object>"
            ]
          },
          "metadata": {
            "tags": []
          }
        }
      ]
    },
    {
      "cell_type": "markdown",
      "metadata": {
        "id": "8dt_9cGxmW_g"
      },
      "source": [
        "### Text example \n"
      ]
    },
    {
      "cell_type": "code",
      "metadata": {
        "id": "1pnIQIp0ZYhc",
        "outputId": "e6918eef-2967-4f00-87e9-22c0ceb72d24",
        "colab": {
          "base_uri": "https://localhost:8080/",
          "height": 1000
        }
      },
      "source": [
        "%%html\n",
        "<!doctype html>\n",
        "<html>\n",
        "<head>\n",
        "<meta charset=\"UTF-8\">\n",
        "<title>Black Goose Bakery</title>\n",
        "<meta name=\"viewport\" content=\"width=device-width, initial-scale=1\">\n",
        "<link href=\"https://fonts.googleapis.com/css?family=Stint+Ultra+Expanded\" rel=\"stylesheet\">\n",
        "<style>\n",
        "</style>\n",
        "</head>\n",
        "\n",
        "<body>\n",
        "\n",
        "<header>\n",
        "  <nav>\n",
        "    <ul>\n",
        "      <li><a href=\"\">Menu</a></li>\n",
        "      <li><a href=\"\">News</a></li>\n",
        "      <li><a href=\"\">About</a></li>\n",
        "      <li><a href=\"\">Contact</a></li>\n",
        "    </ul>\n",
        "  </nav>  \n",
        "  <h1><img src=\"https://drive.google.com/u/0/uc?id=1DMeWpHyerdqI-5EHB--d_TIlVBrpyia9\" alt=\"Black Goose Bakery\"></h1>\n",
        "  <p>The delicious baked goods you love at Black Goose Bistro...now available to go!</p>\n",
        "</header>\n",
        "\n",
        "<main>\n",
        "  <h2>Fresh from the Oven</h2>\n",
        "  <h3>Breads</h3>\n",
        "  <p><img src=\"https://drive.google.com/u/0/uc?id=1L3PlJ3Mp3nJX5vuc-YbqVTHa-kURVD_Z\" alt=\"round loaf of bread on cutting board\"> Our breads are made daily from highest-quality whole grain flour, water, salt, and yeast or sourdough starter. Simply and naturally, and never any preservatives. Patience is key to achieving the proper level of fermentation and baking each loaf to perfection. Available in whole grain, sourdough, olive loaf, classic rye, and potato-onion.</p>\n",
        "  <p class=\"more\"><a href=\"\">Learn more about our baking process...</a></p>\n",
        "\n",
        "  <h3>Muffins</h3>\n",
        "  <p><img src=\"https://drive.google.com/u/0/uc?id=1VqxNrq3Go418ZujTjTepPXBVlPzGUIjw\" alt=\"one chocolate chip muffin\"> Every day, we offer a large selection of muffins, including blueberry, multi-berry, bran, corn, lemon-poppyseed, and chocolate. Our muffins are made from scratch each day. Stop by to see our seasonal muffin flavors!</p>\n",
        "  <p class=\"more\"><a href=\"\">Learn more about how we make our muffins...</a></p>\n",
        "</main>\n",
        "\n",
        "<aside>\n",
        "  <h2>Hours</h2>\n",
        "  <p><span class=\"day\">Monday:</span> 5am to 3pm</p>\n",
        "  <p><span class=\"day\">Tuesday:</span> 5am to 3pm</p>\n",
        "  <p><span class=\"day\">Wednesday:</span> 5am to 3pm</p>\n",
        "  <p><span class=\"day\">Thursday:</span> 5am to 3pm</p>\n",
        "  <p><span class=\"day\">Friday:</span> 5am to 3pm</p>\n",
        "  <p><span class=\"day\">Saturday:</span> 6am to 4pm</p>\n",
        "  <p><span class=\"day\">Sunday:</span> 6am to 4pm</p>\n",
        "</aside>\n",
        "\n",
        "<footer>\n",
        "  <p>All content copyright &copy; 2017, Black Goose Bistro.</p>\n",
        "</footer>\n",
        "\n",
        "</body>\n",
        "</html>\n"
      ],
      "execution_count": null,
      "outputs": [
        {
          "output_type": "display_data",
          "data": {
            "text/html": [
              "<!doctype html>\n",
              "<html>\n",
              "<head>\n",
              "<meta charset=\"UTF-8\">\n",
              "<title>Black Goose Bakery</title>\n",
              "<meta name=\"viewport\" content=\"width=device-width, initial-scale=1\">\n",
              "<link href=\"https://fonts.googleapis.com/css?family=Stint+Ultra+Expanded\" rel=\"stylesheet\">\n",
              "<style>\n",
              "</style>\n",
              "</head>\n",
              "\n",
              "<body>\n",
              "\n",
              "<header>\n",
              "  <nav>\n",
              "    <ul>\n",
              "      <li><a href=\"\">Menu</a></li>\n",
              "      <li><a href=\"\">News</a></li>\n",
              "      <li><a href=\"\">About</a></li>\n",
              "      <li><a href=\"\">Contact</a></li>\n",
              "    </ul>\n",
              "  </nav>  \n",
              "  <h1><img src=\"https://drive.google.com/u/0/uc?id=1DMeWpHyerdqI-5EHB--d_TIlVBrpyia9\" alt=\"Black Goose Bakery\"></h1>\n",
              "  <p>The delicious baked goods you love at Black Goose Bistro...now available to go!</p>\n",
              "</header>\n",
              "\n",
              "<main>\n",
              "  <h2>Fresh from the Oven</h2>\n",
              "  <h3>Breads</h3>\n",
              "  <p><img src=\"https://drive.google.com/u/0/uc?id=1L3PlJ3Mp3nJX5vuc-YbqVTHa-kURVD_Z\" alt=\"round loaf of bread on cutting board\"> Our breads are made daily from highest-quality whole grain flour, water, salt, and yeast or sourdough starter. Simply and naturally, and never any preservatives. Patience is key to achieving the proper level of fermentation and baking each loaf to perfection. Available in whole grain, sourdough, olive loaf, classic rye, and potato-onion.</p>\n",
              "  <p class=\"more\"><a href=\"\">Learn more about our baking process...</a></p>\n",
              "\n",
              "  <h3>Muffins</h3>\n",
              "  <p><img src=\"https://drive.google.com/u/0/uc?id=1VqxNrq3Go418ZujTjTepPXBVlPzGUIjw\" alt=\"one chocolate chip muffin\"> Every day, we offer a large selection of muffins, including blueberry, multi-berry, bran, corn, lemon-poppyseed, and chocolate. Our muffins are made from scratch each day. Stop by to see our seasonal muffin flavors!</p>\n",
              "  <p class=\"more\"><a href=\"\">Learn more about how we make our muffins...</a></p>\n",
              "</main>\n",
              "\n",
              "<aside>\n",
              "  <h2>Hours</h2>\n",
              "  <p><span class=\"day\">Monday:</span> 5am to 3pm</p>\n",
              "  <p><span class=\"day\">Tuesday:</span> 5am to 3pm</p>\n",
              "  <p><span class=\"day\">Wednesday:</span> 5am to 3pm</p>\n",
              "  <p><span class=\"day\">Thursday:</span> 5am to 3pm</p>\n",
              "  <p><span class=\"day\">Friday:</span> 5am to 3pm</p>\n",
              "  <p><span class=\"day\">Saturday:</span> 6am to 4pm</p>\n",
              "  <p><span class=\"day\">Sunday:</span> 6am to 4pm</p>\n",
              "</aside>\n",
              "\n",
              "<footer>\n",
              "  <p>All content copyright &copy; 2017, Black Goose Bistro.</p>\n",
              "</footer>\n",
              "\n",
              "</body>\n",
              "</html>"
            ],
            "text/plain": [
              "<IPython.core.display.HTML object>"
            ]
          },
          "metadata": {
            "tags": []
          }
        }
      ]
    },
    {
      "cell_type": "code",
      "metadata": {
        "id": "36WKQLX3ml4T",
        "outputId": "6c3a1276-e533-4c1a-c346-b47c097528fb",
        "colab": {
          "resources": {
            "http://localhost:8080/images/scallop.png": {
              "data": "CjwhRE9DVFlQRSBodG1sPgo8aHRtbCBsYW5nPWVuPgogIDxtZXRhIGNoYXJzZXQ9dXRmLTg+CiAgPG1ldGEgbmFtZT12aWV3cG9ydCBjb250ZW50PSJpbml0aWFsLXNjYWxlPTEsIG1pbmltdW0tc2NhbGU9MSwgd2lkdGg9ZGV2aWNlLXdpZHRoIj4KICA8dGl0bGU+RXJyb3IgNDA0IChOb3QgRm91bmQpISExPC90aXRsZT4KICA8c3R5bGU+CiAgICAqe21hcmdpbjowO3BhZGRpbmc6MH1odG1sLGNvZGV7Zm9udDoxNXB4LzIycHggYXJpYWwsc2Fucy1zZXJpZn1odG1se2JhY2tncm91bmQ6I2ZmZjtjb2xvcjojMjIyO3BhZGRpbmc6MTVweH1ib2R5e21hcmdpbjo3JSBhdXRvIDA7bWF4LXdpZHRoOjM5MHB4O21pbi1oZWlnaHQ6MTgwcHg7cGFkZGluZzozMHB4IDAgMTVweH0qID4gYm9keXtiYWNrZ3JvdW5kOnVybCgvL3d3dy5nb29nbGUuY29tL2ltYWdlcy9lcnJvcnMvcm9ib3QucG5nKSAxMDAlIDVweCBuby1yZXBlYXQ7cGFkZGluZy1yaWdodDoyMDVweH1we21hcmdpbjoxMXB4IDAgMjJweDtvdmVyZmxvdzpoaWRkZW59aW5ze2NvbG9yOiM3Nzc7dGV4dC1kZWNvcmF0aW9uOm5vbmV9YSBpbWd7Ym9yZGVyOjB9QG1lZGlhIHNjcmVlbiBhbmQgKG1heC13aWR0aDo3NzJweCl7Ym9keXtiYWNrZ3JvdW5kOm5vbmU7bWFyZ2luLXRvcDowO21heC13aWR0aDpub25lO3BhZGRpbmctcmlnaHQ6MH19I2xvZ297YmFja2dyb3VuZDp1cmwoLy93d3cuZ29vZ2xlLmNvbS9pbWFnZXMvbG9nb3MvZXJyb3JwYWdlL2Vycm9yX2xvZ28tMTUweDU0LnBuZykgbm8tcmVwZWF0O21hcmdpbi1sZWZ0Oi01cHh9QG1lZGlhIG9ubHkgc2NyZWVuIGFuZCAobWluLXJlc29sdXRpb246MTkyZHBpKXsjbG9nb3tiYWNrZ3JvdW5kOnVybCgvL3d3dy5nb29nbGUuY29tL2ltYWdlcy9sb2dvcy9lcnJvcnBhZ2UvZXJyb3JfbG9nby0xNTB4NTQtMngucG5nKSBuby1yZXBlYXQgMCUgMCUvMTAwJSAxMDAlOy1tb3otYm9yZGVyLWltYWdlOnVybCgvL3d3dy5nb29nbGUuY29tL2ltYWdlcy9sb2dvcy9lcnJvcnBhZ2UvZXJyb3JfbG9nby0xNTB4NTQtMngucG5nKSAwfX1AbWVkaWEgb25seSBzY3JlZW4gYW5kICgtd2Via2l0LW1pbi1kZXZpY2UtcGl4ZWwtcmF0aW86Mil7I2xvZ297YmFja2dyb3VuZDp1cmwoLy93d3cuZ29vZ2xlLmNvbS9pbWFnZXMvbG9nb3MvZXJyb3JwYWdlL2Vycm9yX2xvZ28tMTUweDU0LTJ4LnBuZykgbm8tcmVwZWF0Oy13ZWJraXQtYmFja2dyb3VuZC1zaXplOjEwMCUgMTAwJX19I2xvZ297ZGlzcGxheTppbmxpbmUtYmxvY2s7aGVpZ2h0OjU0cHg7d2lkdGg6MTUwcHh9CiAgPC9zdHlsZT4KICA8YSBocmVmPS8vd3d3Lmdvb2dsZS5jb20vPjxzcGFuIGlkPWxvZ28gYXJpYS1sYWJlbD1Hb29nbGU+PC9zcGFuPjwvYT4KICA8cD48Yj40MDQuPC9iPiA8aW5zPlRoYXTigJlzIGFuIGVycm9yLjwvaW5zPgogIDxwPiAgPGlucz5UaGF04oCZcyBhbGwgd2Uga25vdy48L2lucz4K",
              "ok": false,
              "headers": [
                [
                  "content-length",
                  "1449"
                ],
                [
                  "content-type",
                  "text/html; charset=utf-8"
                ]
              ],
              "status": 404,
              "status_text": ""
            }
          },
          "base_uri": "https://localhost:8080/",
          "height": 1000
        }
      },
      "source": [
        "%%html\n",
        "<!doctype html>\n",
        "<html>\n",
        "<head>\n",
        "<meta charset=\"UTF-8\">\n",
        "<title>Black Goose Bakery</title>\n",
        "<meta name=\"viewport\" content=\"width=device-width, initial-scale=1\">\n",
        "<link href=\"https://fonts.googleapis.com/css?family=Stint+Ultra+Expanded\" rel=\"stylesheet\">\n",
        "<style>\n",
        "  nav, footer {\n",
        "    font-family: verdana, sans-serif;\n",
        "    background-color: #783F27;\n",
        "  }\n",
        "  header {\n",
        "    color: white;\n",
        "    background:  url(https://drive.google.com/u/0/uc?id=1ldvEujA583RRWJjEBIbIX-EobkpzbL8l) no-repeat center center;\n",
        "    background-size: cover; \n",
        "    text-align: center;\n",
        "    height: 15em;\n",
        "  }\n",
        "  /* main \"products\" styles */\n",
        "  main {\n",
        "    font-family: 'Stint Ultra Expanded', Georgia, serif;\n",
        "    background-color: white;\n",
        "    line-height: 1.8em;\n",
        "    color: #555;\n",
        "    padding: 1em;\n",
        "    border: double 4px #EADDC4;\n",
        "    border-radius: 25px;\n",
        "    margin: 2.5%;\n",
        "  }\n",
        "  h3 {\n",
        "    text-transform: uppercase;\n",
        "    letter-spacing: .2em;\n",
        "    color: #7A0002;\n",
        "    border-top: 1px solid;\n",
        "    border-left: 3px solid;\n",
        "    padding-left: 1em;\n",
        "    margin-top: 2.5em;\n",
        "  }\n",
        "  p.more {\n",
        "    font-family: verdana, sans-serif;\n",
        "    text-transform: uppercase; \n",
        "    font-size: .8em;\n",
        "    clear: left;\n",
        "  }\n",
        "  main img {\n",
        "    float: left;\n",
        "    margin: 0 1em 1em 0;\n",
        "  }\n",
        "  img[alt*=\"muffin\"] {\n",
        "    margin-left: 50px;\n",
        "  }\n",
        "\n",
        "\n",
        "  /* aside \"hours\" styles */\n",
        "  aside {\n",
        "    background: url(images/scallop.png) repeat-y left top;\n",
        "    background-color: #F6F3ED;\n",
        "    padding: 1em;\n",
        "    padding-left: 45px;\n",
        "    border-top-right-radius: 25px;\n",
        "    margin: 1em 2.5% 0 10%;\n",
        "  }\n",
        "  /* misc styles */\n",
        "  footer {\n",
        "    color: #EADDC4;\n",
        "    text-align: center;\n",
        "    font-size: .8em;\n",
        "    padding: 1em;\n",
        "  }\n",
        "  h2 {\n",
        "    font-family: 'Stint Ultra Expanded', Georgia, serif;\n",
        "  }\n",
        "  .day {\n",
        "    color: #783F27;\n",
        "    font-family: verdana, sans-serif;\n",
        "    font-size: .8em;\n",
        "    text-transform: uppercase;\n",
        "  }\n",
        "</style>\n",
        "</head>\n",
        "\n",
        "<body>\n",
        "\n",
        "<header>\n",
        "  <nav>\n",
        "    <ul>\n",
        "      <li><a href=\"\">Menu</a></li>\n",
        "      <li><a href=\"\">News</a></li>\n",
        "      <li><a href=\"\">About</a></li>\n",
        "      <li><a href=\"\">Contact</a></li>\n",
        "    </ul>\n",
        "  </nav>  \n",
        "  <h1><img src=\"https://drive.google.com/u/0/uc?id=1DMeWpHyerdqI-5EHB--d_TIlVBrpyia9\" alt=\"Black Goose Bakery\"></h1>\n",
        "  <p>The delicious baked goods you love at Black Goose Bistro...now available to go!</p>\n",
        "</header>\n",
        "\n",
        "<main>\n",
        "  <h2>Fresh from the Oven</h2>\n",
        "  <h3>Breads</h3>\n",
        "  <p><img src=\"https://drive.google.com/u/0/uc?id=1L3PlJ3Mp3nJX5vuc-YbqVTHa-kURVD_Z\" alt=\"round loaf of bread on cutting board\"> Our breads are made daily from highest-quality whole grain flour, water, salt, and yeast or sourdough starter. Simply and naturally, and never any preservatives. Patience is key to achieving the proper level of fermentation and baking each loaf to perfection. Available in whole grain, sourdough, olive loaf, classic rye, and potato-onion.</p>\n",
        "  <p class=\"more\"><a href=\"\">Learn more about our baking process...</a></p>\n",
        "\n",
        "  <h3>Muffins</h3>\n",
        "  <p><img src=\"https://drive.google.com/u/0/uc?id=1VqxNrq3Go418ZujTjTepPXBVlPzGUIjw\" alt=\"one chocolate chip muffin\"> Every day, we offer a large selection of muffins, including blueberry, multi-berry, bran, corn, lemon-poppyseed, and chocolate. Our muffins are made from scratch each day. Stop by to see our seasonal muffin flavors!</p>\n",
        "  <p class=\"more\"><a href=\"\">Learn more about how we make our muffins...</a></p>\n",
        "</main>\n",
        "\n",
        "<aside>\n",
        "  <h2>Hours</h2>\n",
        "  <p><span class=\"day\">Monday:</span> 5am to 3pm</p>\n",
        "  <p><span class=\"day\">Tuesday:</span> 5am to 3pm</p>\n",
        "  <p><span class=\"day\">Wednesday:</span> 5am to 3pm</p>\n",
        "  <p><span class=\"day\">Thursday:</span> 5am to 3pm</p>\n",
        "  <p><span class=\"day\">Friday:</span> 5am to 3pm</p>\n",
        "  <p><span class=\"day\">Saturday:</span> 6am to 4pm</p>\n",
        "  <p><span class=\"day\">Sunday:</span> 6am to 4pm</p>\n",
        "</aside>\n",
        "\n",
        "<footer>\n",
        "  <p>All content copyright &copy; 2017, Black Goose Bistro.</p>\n",
        "</footer>\n",
        "\n",
        "</body>\n",
        "</html>"
      ],
      "execution_count": null,
      "outputs": [
        {
          "output_type": "display_data",
          "data": {
            "text/html": [
              "<!doctype html>\n",
              "<html>\n",
              "<head>\n",
              "<meta charset=\"UTF-8\">\n",
              "<title>Black Goose Bakery</title>\n",
              "<meta name=\"viewport\" content=\"width=device-width, initial-scale=1\">\n",
              "<link href=\"https://fonts.googleapis.com/css?family=Stint+Ultra+Expanded\" rel=\"stylesheet\">\n",
              "<style>\n",
              "  nav, footer {\n",
              "    font-family: verdana, sans-serif;\n",
              "    background-color: #783F27;\n",
              "  }\n",
              "  header {\n",
              "    color: white;\n",
              "    background:  url(https://drive.google.com/u/0/uc?id=1ldvEujA583RRWJjEBIbIX-EobkpzbL8l) no-repeat center center;\n",
              "    background-size: cover; \n",
              "    text-align: center;\n",
              "    height: 15em;\n",
              "  }\n",
              "  /* main \"products\" styles */\n",
              "  main {\n",
              "    font-family: 'Stint Ultra Expanded', Georgia, serif;\n",
              "    background-color: white;\n",
              "    line-height: 1.8em;\n",
              "    color: #555;\n",
              "    padding: 1em;\n",
              "    border: double 4px #EADDC4;\n",
              "    border-radius: 25px;\n",
              "    margin: 2.5%;\n",
              "  }\n",
              "  h3 {\n",
              "    text-transform: uppercase;\n",
              "    letter-spacing: .2em;\n",
              "    color: #7A0002;\n",
              "    border-top: 1px solid;\n",
              "    border-left: 3px solid;\n",
              "    padding-left: 1em;\n",
              "    margin-top: 2.5em;\n",
              "  }\n",
              "  p.more {\n",
              "    font-family: verdana, sans-serif;\n",
              "    text-transform: uppercase; \n",
              "    font-size: .8em;\n",
              "    clear: left;\n",
              "  }\n",
              "  main img {\n",
              "    float: left;\n",
              "    margin: 0 1em 1em 0;\n",
              "  }\n",
              "  img[alt*=\"muffin\"] {\n",
              "    margin-left: 50px;\n",
              "  }\n",
              "\n",
              "\n",
              "  /* aside \"hours\" styles */\n",
              "  aside {\n",
              "    background: url(images/scallop.png) repeat-y left top;\n",
              "    background-color: #F6F3ED;\n",
              "    padding: 1em;\n",
              "    padding-left: 45px;\n",
              "    border-top-right-radius: 25px;\n",
              "    margin: 1em 2.5% 0 10%;\n",
              "  }\n",
              "  /* misc styles */\n",
              "  footer {\n",
              "    color: #EADDC4;\n",
              "    text-align: center;\n",
              "    font-size: .8em;\n",
              "    padding: 1em;\n",
              "  }\n",
              "  h2 {\n",
              "    font-family: 'Stint Ultra Expanded', Georgia, serif;\n",
              "  }\n",
              "  .day {\n",
              "    color: #783F27;\n",
              "    font-family: verdana, sans-serif;\n",
              "    font-size: .8em;\n",
              "    text-transform: uppercase;\n",
              "  }\n",
              "</style>\n",
              "</head>\n",
              "\n",
              "<body>\n",
              "\n",
              "<header>\n",
              "  <nav>\n",
              "    <ul>\n",
              "      <li><a href=\"\">Menu</a></li>\n",
              "      <li><a href=\"\">News</a></li>\n",
              "      <li><a href=\"\">About</a></li>\n",
              "      <li><a href=\"\">Contact</a></li>\n",
              "    </ul>\n",
              "  </nav>  \n",
              "  <h1><img src=\"https://drive.google.com/u/0/uc?id=1DMeWpHyerdqI-5EHB--d_TIlVBrpyia9\" alt=\"Black Goose Bakery\"></h1>\n",
              "  <p>The delicious baked goods you love at Black Goose Bistro...now available to go!</p>\n",
              "</header>\n",
              "\n",
              "<main>\n",
              "  <h2>Fresh from the Oven</h2>\n",
              "  <h3>Breads</h3>\n",
              "  <p><img src=\"https://drive.google.com/u/0/uc?id=1L3PlJ3Mp3nJX5vuc-YbqVTHa-kURVD_Z\" alt=\"round loaf of bread on cutting board\"> Our breads are made daily from highest-quality whole grain flour, water, salt, and yeast or sourdough starter. Simply and naturally, and never any preservatives. Patience is key to achieving the proper level of fermentation and baking each loaf to perfection. Available in whole grain, sourdough, olive loaf, classic rye, and potato-onion.</p>\n",
              "  <p class=\"more\"><a href=\"\">Learn more about our baking process...</a></p>\n",
              "\n",
              "  <h3>Muffins</h3>\n",
              "  <p><img src=\"https://drive.google.com/u/0/uc?id=1VqxNrq3Go418ZujTjTepPXBVlPzGUIjw\" alt=\"one chocolate chip muffin\"> Every day, we offer a large selection of muffins, including blueberry, multi-berry, bran, corn, lemon-poppyseed, and chocolate. Our muffins are made from scratch each day. Stop by to see our seasonal muffin flavors!</p>\n",
              "  <p class=\"more\"><a href=\"\">Learn more about how we make our muffins...</a></p>\n",
              "</main>\n",
              "\n",
              "<aside>\n",
              "  <h2>Hours</h2>\n",
              "  <p><span class=\"day\">Monday:</span> 5am to 3pm</p>\n",
              "  <p><span class=\"day\">Tuesday:</span> 5am to 3pm</p>\n",
              "  <p><span class=\"day\">Wednesday:</span> 5am to 3pm</p>\n",
              "  <p><span class=\"day\">Thursday:</span> 5am to 3pm</p>\n",
              "  <p><span class=\"day\">Friday:</span> 5am to 3pm</p>\n",
              "  <p><span class=\"day\">Saturday:</span> 6am to 4pm</p>\n",
              "  <p><span class=\"day\">Sunday:</span> 6am to 4pm</p>\n",
              "</aside>\n",
              "\n",
              "<footer>\n",
              "  <p>All content copyright &copy; 2017, Black Goose Bistro.</p>\n",
              "</footer>\n",
              "\n",
              "</body>\n",
              "</html>"
            ],
            "text/plain": [
              "<IPython.core.display.HTML object>"
            ]
          },
          "metadata": {
            "tags": []
          }
        }
      ]
    },
    {
      "cell_type": "markdown",
      "metadata": {
        "id": "789tMU9bobJk"
      },
      "source": [
        "## Positioning\n",
        "\n",
        "There are multiple values for positioning (default is static). Including:\n",
        "\n",
        "\n",
        "\n",
        "*   Relative\n",
        "*   Absolute\n",
        "*   Fixed\n",
        "\n",
        "### Relative"
      ]
    },
    {
      "cell_type": "code",
      "metadata": {
        "id": "LmvhZKqHowY9",
        "outputId": "56f7eb7f-8dea-4f40-99cb-031296ece013",
        "colab": {
          "base_uri": "https://localhost:8080/",
          "height": 284
        }
      },
      "source": [
        "%%html\n",
        "<!DOCTYPE html>\n",
        "<html>\n",
        "\n",
        "  <head>\n",
        "    <meta charset=\"utf-8\">\n",
        "    <title>Relative - 1em</title>\n",
        "    <style>\n",
        "      img, p {border: 2px solid blue;}\n",
        "      p {\n",
        "        margin-left:auto;\n",
        "        margin-right:auto;\n",
        "        width: 300px;\n",
        "      }\n",
        "      img {\n",
        "\n",
        "      }\n",
        "    </style>\n",
        "\t\n",
        "  </head>\n",
        "\n",
        "  <body>\n",
        "  <p>Every day, we offer a large selection of muffins, including blueberry, multi-berry, bran, corn, lemon-poppyseed, and chocolate. \n",
        "    <img src=\"https://drive.google.com/u/0/uc?id=1VqxNrq3Go418ZujTjTepPXBVlPzGUIjw\" alt=\"one chocolate chip muffin\">\n",
        "    Our muffins are made from scratch each day. Stop by to see our seasonal muffin flavors!\n",
        "  </p>\n",
        "  \n",
        "  </body>\n",
        "</html>  "
      ],
      "execution_count": null,
      "outputs": [
        {
          "output_type": "display_data",
          "data": {
            "text/html": [
              "<!DOCTYPE html>\n",
              "<html>\n",
              "\n",
              "  <head>\n",
              "    <meta charset=\"utf-8\">\n",
              "    <title>Relative - 1em</title>\n",
              "    <style>\n",
              "      img, p {border: 2px solid blue;}\n",
              "      p {\n",
              "        margin-left:auto;\n",
              "        margin-right:auto;\n",
              "        width: 300px;\n",
              "      }\n",
              "      img {\n",
              "\n",
              "      }\n",
              "    </style>\n",
              "\t\n",
              "  </head>\n",
              "\n",
              "  <body>\n",
              "  <p>Every day, we offer a large selection of muffins, including blueberry, multi-berry, bran, corn, lemon-poppyseed, and chocolate. \n",
              "    <img src=\"https://drive.google.com/u/0/uc?id=1VqxNrq3Go418ZujTjTepPXBVlPzGUIjw\" alt=\"one chocolate chip muffin\">\n",
              "    Our muffins are made from scratch each day. Stop by to see our seasonal muffin flavors!\n",
              "  </p>\n",
              "  \n",
              "  </body>\n",
              "</html>  "
            ],
            "text/plain": [
              "<IPython.core.display.HTML object>"
            ]
          },
          "metadata": {
            "tags": []
          }
        }
      ]
    },
    {
      "cell_type": "code",
      "metadata": {
        "id": "kavz4vAgnbkl",
        "outputId": "80547756-a0f4-4ec1-9723-ec89388c55a5",
        "colab": {
          "base_uri": "https://localhost:8080/",
          "height": 327
        }
      },
      "source": [
        "%%html\n",
        "<!DOCTYPE html>\n",
        "<html>\n",
        "\n",
        "  <head>\n",
        "    <meta charset=\"utf-8\">\n",
        "    <title>Relative - 1em</title>\n",
        "    <style>\n",
        "      img, p {border: 2px solid blue;}\n",
        "      p {\n",
        "        margin-left:auto;\n",
        "        margin-right:auto;\n",
        "        width: 300px;\n",
        "      }\n",
        "      img {\n",
        "        position: relative;\n",
        "        top: 100px;\n",
        "        left: 20px;\n",
        "      }\n",
        "    </style>\n",
        "\t\n",
        "  </head>\n",
        "\n",
        "  <body>\n",
        "  <p>Every day, we offer a large selection of muffins, including blueberry, multi-berry, bran, corn, lemon-poppyseed, and chocolate. \n",
        "    <img src=\"https://drive.google.com/u/0/uc?id=1VqxNrq3Go418ZujTjTepPXBVlPzGUIjw\" alt=\"one chocolate chip muffin\">\n",
        "    Our muffins are made from scratch each day. Stop by to see our seasonal muffin flavors!\n",
        "  </p>\n",
        "  \n",
        "  </body>\n",
        "</html>  "
      ],
      "execution_count": null,
      "outputs": [
        {
          "output_type": "display_data",
          "data": {
            "text/html": [
              "<!DOCTYPE html>\n",
              "<html>\n",
              "\n",
              "  <head>\n",
              "    <meta charset=\"utf-8\">\n",
              "    <title>Relative - 1em</title>\n",
              "    <style>\n",
              "      img, p {border: 2px solid blue;}\n",
              "      p {\n",
              "        margin-left:auto;\n",
              "        margin-right:auto;\n",
              "        width: 300px;\n",
              "      }\n",
              "      img {\n",
              "        position: relative;\n",
              "        top: 100px;\n",
              "        left: 20px;\n",
              "      }\n",
              "    </style>\n",
              "\t\n",
              "  </head>\n",
              "\n",
              "  <body>\n",
              "  <p>Every day, we offer a large selection of muffins, including blueberry, multi-berry, bran, corn, lemon-poppyseed, and chocolate. \n",
              "    <img src=\"https://drive.google.com/u/0/uc?id=1VqxNrq3Go418ZujTjTepPXBVlPzGUIjw\" alt=\"one chocolate chip muffin\">\n",
              "    Our muffins are made from scratch each day. Stop by to see our seasonal muffin flavors!\n",
              "  </p>\n",
              "  \n",
              "  </body>\n",
              "</html>  "
            ],
            "text/plain": [
              "<IPython.core.display.HTML object>"
            ]
          },
          "metadata": {
            "tags": []
          }
        }
      ]
    },
    {
      "cell_type": "markdown",
      "metadata": {
        "id": "7dfUjLyso_G8"
      },
      "source": [
        "### Absolute"
      ]
    },
    {
      "cell_type": "code",
      "metadata": {
        "id": "4o9G4Q1yo4as",
        "outputId": "b7739d3a-9b4e-46db-adde-3735f3fe7be7",
        "colab": {
          "base_uri": "https://localhost:8080/",
          "height": 1000
        }
      },
      "source": [
        "%%html\n",
        "<!DOCTYPE html>\n",
        "<html>\n",
        "\n",
        "  <head>\n",
        "    <meta charset=\"utf-8\">\n",
        "    <title>Relative - 1em</title>\n",
        "    <style>\n",
        "      img, p {border: 2px solid blue;}\n",
        "      p {\n",
        "        margin-left:auto;\n",
        "        margin-right:auto;\n",
        "        width: 300px;\n",
        "      }\n",
        "      img {\n",
        "        position: absolute;\n",
        "        top: 10px;\n",
        "        left: 20px;\n",
        "      }\n",
        "    </style>\n",
        "\t\n",
        "  </head>\n",
        "\n",
        "  <body>\n",
        "  <p>It was the best of times,it was the worst of times,it was the age of wisdom,it was the age of foolishness,it was the epoch of belief,it was the epoch of incredulity,it was the season of Light,it was the season of Darkness,it was the spring of hope,it was the winter of despair,we had everything before us, we had nothing before us, we were all going direct to Heaven, we were all going direct the other way— in short, the period was so far like the present period, that some of its noisiest authorities insisted on its being received, for good or for evil, in the superlative degree of comparison only.</p>\n",
        "  <p>Every day, we offer a large selection of muffins, including blueberry, multi-berry, bran, corn, lemon-poppyseed, and chocolate. \n",
        "    <img src=\"https://drive.google.com/u/0/uc?id=1VqxNrq3Go418ZujTjTepPXBVlPzGUIjw\" alt=\"one chocolate chip muffin\">\n",
        "    Our muffins are made from scratch each day. Stop by to see our seasonal muffin flavors!\n",
        "  </p>\n",
        "  <p>It was the best of times,it was the worst of times,it was the age of wisdom,it was the age of foolishness,it was the epoch of belief,it was the epoch of incredulity,it was the season of Light,it was the season of Darkness,it was the spring of hope,it was the winter of despair,we had everything before us, we had nothing before us, we were all going direct to Heaven, we were all going direct the other way— in short, the period was so far like the present period, that some of its noisiest authorities insisted on its being received, for good or for evil, in the superlative degree of comparison only.</p>\n",
        "  <p>It was the best of times,it was the worst of times,it was the age of wisdom,it was the age of foolishness,it was the epoch of belief,it was the epoch of incredulity,it was the season of Light,it was the season of Darkness,it was the spring of hope,it was the winter of despair,we had everything before us, we had nothing before us, we were all going direct to Heaven, we were all going direct the other way— in short, the period was so far like the present period, that some of its noisiest authorities insisted on its being received, for good or for evil, in the superlative degree of comparison only.</p>\n",
        "  <p>It was the best of times,it was the worst of times,it was the age of wisdom,it was the age of foolishness,it was the epoch of belief,it was the epoch of incredulity,it was the season of Light,it was the season of Darkness,it was the spring of hope,it was the winter of despair,we had everything before us, we had nothing before us, we were all going direct to Heaven, we were all going direct the other way— in short, the period was so far like the present period, that some of its noisiest authorities insisted on its being received, for good or for evil, in the superlative degree of comparison only.</p>\n",
        "  <p>It was the best of times,it was the worst of times,it was the age of wisdom,it was the age of foolishness,it was the epoch of belief,it was the epoch of incredulity,it was the season of Light,it was the season of Darkness,it was the spring of hope,it was the winter of despair,we had everything before us, we had nothing before us, we were all going direct to Heaven, we were all going direct the other way— in short, the period was so far like the present period, that some of its noisiest authorities insisted on its being received, for good or for evil, in the superlative degree of comparison only.</p>\n",
        "  <p>It was the best of times,it was the worst of times,it was the age of wisdom,it was the age of foolishness,it was the epoch of belief,it was the epoch of incredulity,it was the season of Light,it was the season of Darkness,it was the spring of hope,it was the winter of despair,we had everything before us, we had nothing before us, we were all going direct to Heaven, we were all going direct the other way— in short, the period was so far like the present period, that some of its noisiest authorities insisted on its being received, for good or for evil, in the superlative degree of comparison only.</p>\n",
        "  </body>\n",
        "</html> "
      ],
      "execution_count": null,
      "outputs": [
        {
          "output_type": "display_data",
          "data": {
            "text/html": [
              "<!DOCTYPE html>\n",
              "<html>\n",
              "\n",
              "  <head>\n",
              "    <meta charset=\"utf-8\">\n",
              "    <title>Relative - 1em</title>\n",
              "    <style>\n",
              "      img, p {border: 2px solid blue;}\n",
              "      p {\n",
              "        margin-left:auto;\n",
              "        margin-right:auto;\n",
              "        width: 300px;\n",
              "      }\n",
              "      img {\n",
              "        position: absolute;\n",
              "        top: 10px;\n",
              "        left: 20px;\n",
              "      }\n",
              "    </style>\n",
              "\t\n",
              "  </head>\n",
              "\n",
              "  <body>\n",
              "  <p>It was the best of times,it was the worst of times,it was the age of wisdom,it was the age of foolishness,it was the epoch of belief,it was the epoch of incredulity,it was the season of Light,it was the season of Darkness,it was the spring of hope,it was the winter of despair,we had everything before us, we had nothing before us, we were all going direct to Heaven, we were all going direct the other way— in short, the period was so far like the present period, that some of its noisiest authorities insisted on its being received, for good or for evil, in the superlative degree of comparison only.</p>\n",
              "  <p>Every day, we offer a large selection of muffins, including blueberry, multi-berry, bran, corn, lemon-poppyseed, and chocolate. \n",
              "    <img src=\"https://drive.google.com/u/0/uc?id=1VqxNrq3Go418ZujTjTepPXBVlPzGUIjw\" alt=\"one chocolate chip muffin\">\n",
              "    Our muffins are made from scratch each day. Stop by to see our seasonal muffin flavors!\n",
              "  </p>\n",
              "  <p>It was the best of times,it was the worst of times,it was the age of wisdom,it was the age of foolishness,it was the epoch of belief,it was the epoch of incredulity,it was the season of Light,it was the season of Darkness,it was the spring of hope,it was the winter of despair,we had everything before us, we had nothing before us, we were all going direct to Heaven, we were all going direct the other way— in short, the period was so far like the present period, that some of its noisiest authorities insisted on its being received, for good or for evil, in the superlative degree of comparison only.</p>\n",
              "  <p>It was the best of times,it was the worst of times,it was the age of wisdom,it was the age of foolishness,it was the epoch of belief,it was the epoch of incredulity,it was the season of Light,it was the season of Darkness,it was the spring of hope,it was the winter of despair,we had everything before us, we had nothing before us, we were all going direct to Heaven, we were all going direct the other way— in short, the period was so far like the present period, that some of its noisiest authorities insisted on its being received, for good or for evil, in the superlative degree of comparison only.</p>\n",
              "  <p>It was the best of times,it was the worst of times,it was the age of wisdom,it was the age of foolishness,it was the epoch of belief,it was the epoch of incredulity,it was the season of Light,it was the season of Darkness,it was the spring of hope,it was the winter of despair,we had everything before us, we had nothing before us, we were all going direct to Heaven, we were all going direct the other way— in short, the period was so far like the present period, that some of its noisiest authorities insisted on its being received, for good or for evil, in the superlative degree of comparison only.</p>\n",
              "  <p>It was the best of times,it was the worst of times,it was the age of wisdom,it was the age of foolishness,it was the epoch of belief,it was the epoch of incredulity,it was the season of Light,it was the season of Darkness,it was the spring of hope,it was the winter of despair,we had everything before us, we had nothing before us, we were all going direct to Heaven, we were all going direct the other way— in short, the period was so far like the present period, that some of its noisiest authorities insisted on its being received, for good or for evil, in the superlative degree of comparison only.</p>\n",
              "  <p>It was the best of times,it was the worst of times,it was the age of wisdom,it was the age of foolishness,it was the epoch of belief,it was the epoch of incredulity,it was the season of Light,it was the season of Darkness,it was the spring of hope,it was the winter of despair,we had everything before us, we had nothing before us, we were all going direct to Heaven, we were all going direct the other way— in short, the period was so far like the present period, that some of its noisiest authorities insisted on its being received, for good or for evil, in the superlative degree of comparison only.</p>\n",
              "  </body>\n",
              "</html> "
            ],
            "text/plain": [
              "<IPython.core.display.HTML object>"
            ]
          },
          "metadata": {
            "tags": []
          }
        }
      ]
    },
    {
      "cell_type": "code",
      "metadata": {
        "id": "mYMfOEpwpC8t",
        "outputId": "c5dfc451-e764-4b1f-9c28-eea2427d7448",
        "colab": {
          "base_uri": "https://localhost:8080/",
          "height": 1000
        }
      },
      "source": [
        "%%html\n",
        "<!DOCTYPE html>\n",
        "<html>\n",
        "\n",
        "  <head>\n",
        "    <meta charset=\"utf-8\">\n",
        "    <title>Relative - 1em</title>\n",
        "    <style>\n",
        "      img, p {border: 2px solid blue;}\n",
        "      p {\n",
        "        margin-left:auto;\n",
        "        margin-right:auto;\n",
        "        width: 300px;\n",
        "      }\n",
        "      img {\n",
        "        position: fixed;\n",
        "        top: 10px;\n",
        "        left: 20px;\n",
        "      }\n",
        "    </style>\n",
        "\t\n",
        "  </head>\n",
        "\n",
        "  <body>\n",
        "  <p>It was the best of times,it was the worst of times,it was the age of wisdom,it was the age of foolishness,it was the epoch of belief,it was the epoch of incredulity,it was the season of Light,it was the season of Darkness,it was the spring of hope,it was the winter of despair,we had everything before us, we had nothing before us, we were all going direct to Heaven, we were all going direct the other way— in short, the period was so far like the present period, that some of its noisiest authorities insisted on its being received, for good or for evil, in the superlative degree of comparison only.</p>\n",
        "  <p>Every day, we offer a large selection of muffins, including blueberry, multi-berry, bran, corn, lemon-poppyseed, and chocolate. \n",
        "    <img src=\"https://drive.google.com/u/0/uc?id=1VqxNrq3Go418ZujTjTepPXBVlPzGUIjw\" alt=\"one chocolate chip muffin\">\n",
        "    Our muffins are made from scratch each day. Stop by to see our seasonal muffin flavors!\n",
        "  </p>\n",
        "  <p>It was the best of times,it was the worst of times,it was the age of wisdom,it was the age of foolishness,it was the epoch of belief,it was the epoch of incredulity,it was the season of Light,it was the season of Darkness,it was the spring of hope,it was the winter of despair,we had everything before us, we had nothing before us, we were all going direct to Heaven, we were all going direct the other way in short, the period was so far like the present period, that some of its noisiest authorities insisted on its being received, for good or for evil, in the superlative degree of comparison only.</p>\n",
        "  <p>It was the best of times,it was the worst of times,it was the age of wisdom,it was the age of foolishness,it was the epoch of belief,it was the epoch of incredulity,it was the season of Light,it was the season of Darkness,it was the spring of hope,it was the winter of despair,we had everything before us, we had nothing before us, we were all going direct to Heaven, we were all going direct the other way in short, the period was so far like the present period, that some of its noisiest authorities insisted on its being received, for good or for evil, in the superlative degree of comparison only.</p>\n",
        "  <p>It was the best of times,it was the worst of times,it was the age of wisdom,it was the age of foolishness,it was the epoch of belief,it was the epoch of incredulity,it was the season of Light,it was the season of Darkness,it was the spring of hope,it was the winter of despair,we had everything before us, we had nothing before us, we were all going direct to Heaven, we were all going direct the other way in short, the period was so far like the present period, that some of its noisiest authorities insisted on its being received, for good or for evil, in the superlative degree of comparison only.</p>\n",
        "  <p>It was the best of times,it was the worst of times,it was the age of wisdom,it was the age of foolishness,it was the epoch of belief,it was the epoch of incredulity,it was the season of Light,it was the season of Darkness,it was the spring of hope,it was the winter of despair,we had everything before us, we had nothing before us, we were all going direct to Heaven, we were all going direct the other way in short, the period was so far like the present period, that some of its noisiest authorities insisted on its being received, for good or for evil, in the superlative degree of comparison only.</p>\n",
        "  <p>It was the best of times,it was the worst of times,it was the age of wisdom,it was the age of foolishness,it was the epoch of belief,it was the epoch of incredulity,it was the season of Light,it was the season of Darkness,it was the spring of hope,it was the winter of despair,we had everything before us, we had nothing before us, we were all going direct to Heaven, we were all going direct the other way in short, the period was so far like the present period, that some of its noisiest authorities insisted on its being received, for good or for evil, in the superlative degree of comparison only.</p>\n",
        "  </body>\n",
        "</html>  "
      ],
      "execution_count": null,
      "outputs": [
        {
          "output_type": "display_data",
          "data": {
            "text/html": [
              "<!DOCTYPE html>\n",
              "<html>\n",
              "\n",
              "  <head>\n",
              "    <meta charset=\"utf-8\">\n",
              "    <title>Relative - 1em</title>\n",
              "    <style>\n",
              "      img, p {border: 2px solid blue;}\n",
              "      p {\n",
              "        margin-left:auto;\n",
              "        margin-right:auto;\n",
              "        width: 300px;\n",
              "      }\n",
              "      img {\n",
              "        position: fixed;\n",
              "        top: 10px;\n",
              "        left: 20px;\n",
              "      }\n",
              "    </style>\n",
              "\t\n",
              "  </head>\n",
              "\n",
              "  <body>\n",
              "  <p>It was the best of times,it was the worst of times,it was the age of wisdom,it was the age of foolishness,it was the epoch of belief,it was the epoch of incredulity,it was the season of Light,it was the season of Darkness,it was the spring of hope,it was the winter of despair,we had everything before us, we had nothing before us, we were all going direct to Heaven, we were all going direct the other way— in short, the period was so far like the present period, that some of its noisiest authorities insisted on its being received, for good or for evil, in the superlative degree of comparison only.</p>\n",
              "  <p>Every day, we offer a large selection of muffins, including blueberry, multi-berry, bran, corn, lemon-poppyseed, and chocolate. \n",
              "    <img src=\"https://drive.google.com/u/0/uc?id=1VqxNrq3Go418ZujTjTepPXBVlPzGUIjw\" alt=\"one chocolate chip muffin\">\n",
              "    Our muffins are made from scratch each day. Stop by to see our seasonal muffin flavors!\n",
              "  </p>\n",
              "  <p>It was the best of times,it was the worst of times,it was the age of wisdom,it was the age of foolishness,it was the epoch of belief,it was the epoch of incredulity,it was the season of Light,it was the season of Darkness,it was the spring of hope,it was the winter of despair,we had everything before us, we had nothing before us, we were all going direct to Heaven, we were all going direct the other way in short, the period was so far like the present period, that some of its noisiest authorities insisted on its being received, for good or for evil, in the superlative degree of comparison only.</p>\n",
              "  <p>It was the best of times,it was the worst of times,it was the age of wisdom,it was the age of foolishness,it was the epoch of belief,it was the epoch of incredulity,it was the season of Light,it was the season of Darkness,it was the spring of hope,it was the winter of despair,we had everything before us, we had nothing before us, we were all going direct to Heaven, we were all going direct the other way in short, the period was so far like the present period, that some of its noisiest authorities insisted on its being received, for good or for evil, in the superlative degree of comparison only.</p>\n",
              "  <p>It was the best of times,it was the worst of times,it was the age of wisdom,it was the age of foolishness,it was the epoch of belief,it was the epoch of incredulity,it was the season of Light,it was the season of Darkness,it was the spring of hope,it was the winter of despair,we had everything before us, we had nothing before us, we were all going direct to Heaven, we were all going direct the other way in short, the period was so far like the present period, that some of its noisiest authorities insisted on its being received, for good or for evil, in the superlative degree of comparison only.</p>\n",
              "  <p>It was the best of times,it was the worst of times,it was the age of wisdom,it was the age of foolishness,it was the epoch of belief,it was the epoch of incredulity,it was the season of Light,it was the season of Darkness,it was the spring of hope,it was the winter of despair,we had everything before us, we had nothing before us, we were all going direct to Heaven, we were all going direct the other way in short, the period was so far like the present period, that some of its noisiest authorities insisted on its being received, for good or for evil, in the superlative degree of comparison only.</p>\n",
              "  <p>It was the best of times,it was the worst of times,it was the age of wisdom,it was the age of foolishness,it was the epoch of belief,it was the epoch of incredulity,it was the season of Light,it was the season of Darkness,it was the spring of hope,it was the winter of despair,we had everything before us, we had nothing before us, we were all going direct to Heaven, we were all going direct the other way in short, the period was so far like the present period, that some of its noisiest authorities insisted on its being received, for good or for evil, in the superlative degree of comparison only.</p>\n",
              "  </body>\n",
              "</html>  "
            ],
            "text/plain": [
              "<IPython.core.display.HTML object>"
            ]
          },
          "metadata": {
            "tags": []
          }
        }
      ]
    },
    {
      "cell_type": "code",
      "metadata": {
        "id": "ZIurJ3lOpZbg"
      },
      "source": [
        ""
      ],
      "execution_count": null,
      "outputs": []
    }
  ]
}